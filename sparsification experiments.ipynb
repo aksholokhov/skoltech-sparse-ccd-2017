{
 "cells": [
  {
   "cell_type": "code",
   "execution_count": 1,
   "metadata": {
    "collapsed": true
   },
   "outputs": [],
   "source": [
    "%load_ext autoreload\n",
    "\n",
    "%autoreload 2"
   ]
  },
  {
   "cell_type": "code",
   "execution_count": 2,
   "metadata": {
    "scrolled": true
   },
   "outputs": [
    {
     "name": "stdout",
     "output_type": "stream",
     "text": [
      "Populating the interactive namespace from numpy and matplotlib\n"
     ]
    }
   ],
   "source": [
    "%pylab inline\n",
    "from sklearn.datasets import make_regression\n",
    "from sklearn.linear_model import Ridge\n",
    "from numpy.linalg import norm\n",
    "from numpy import copy\n",
    "\n",
    "from scipy.stats import probplot\n",
    "import scipy as sp\n",
    "\n",
    "from ipywidgets import FloatProgress\n",
    "from IPython.display import display\n",
    "\n",
    "import timeit\n",
    "\n",
    "import fibonacci_heap_mod as fhm\n",
    "\n",
    "from scipy.sparse import csr_matrix\n",
    "from scipy import sparse\n",
    "\n",
    "import sys"
   ]
  },
  {
   "cell_type": "markdown",
   "metadata": {},
   "source": [
    "## Генерация задачи"
   ]
  },
  {
   "cell_type": "code",
   "execution_count": 220,
   "metadata": {},
   "outputs": [
    {
     "name": "stdout",
     "output_type": "stream",
     "text": [
      "10000000\n",
      "CPU times: user 39.3 s, sys: 2.44 s, total: 41.8 s\n",
      "Wall time: 44.6 s\n"
     ]
    }
   ],
   "source": [
    "%%time\n",
    "\n",
    "n = 1e5\n",
    "m = n\n",
    "mu = 1/n\n",
    "X = sparse.rand(m, n, density=0.001)\n",
    "#x_true = np.random.rand(int(n))\n",
    "#x_true /= x_true.sum()\n",
    "#y = X.dot(x_true.T)\n",
    "#e_lower_lim = X.max()\n",
    "print(len(X.nonzero()[0]))\n",
    "#x0 = np.random.rand(int(n))\n",
    "#x0 /= sum(x0)"
   ]
  },
  {
   "cell_type": "markdown",
   "metadata": {},
   "source": [
    "## Арора-спарсификация"
   ]
  },
  {
   "cell_type": "code",
   "execution_count": 56,
   "metadata": {
    "collapsed": true
   },
   "outputs": [],
   "source": [
    "import numpy as np\n",
    "from scipy import sparse\n",
    "\n",
    "class SparsificationException(Exception):\n",
    "    pass\n",
    "\n",
    "\n",
    "def arora_sparsification(M, e = None, random_seed = None):\n",
    "    if random_seed is not None:\n",
    "        np.random.seed(random_seed)\n",
    "\n",
    "    if e is None:\n",
    "        e = M.max()\n",
    "\n",
    "    A = sparse.lil_matrix(M.copy())\n",
    "\n",
    "    for i, j in zip(*A.nonzero()):\n",
    "        x = A[i, j]\n",
    "        if abs(x) > e:\n",
    "            continue\n",
    "        p = abs(x)/e\n",
    "        if p > 1 or p < 0:\n",
    "            raise SparsificationException(\"Inadequate probability on (%d, %d): %.2f\"%(i, j, p))\n",
    "        if np.random.rand() <= p:\n",
    "            A[i, j] = np.sign(x)*e\n",
    "        else:\n",
    "            A[i, j] = 0\n",
    "\n",
    "    return A"
   ]
  },
  {
   "cell_type": "markdown",
   "metadata": {},
   "source": [
    "### Тест быстродействия"
   ]
  },
  {
   "cell_type": "code",
   "execution_count": 69,
   "metadata": {},
   "outputs": [
    {
     "name": "stdout",
     "output_type": "stream",
     "text": [
      "CPU times: user 39.1 s, sys: 998 ms, total: 40.1 s\n",
      "Wall time: 41.1 s\n"
     ]
    }
   ],
   "source": [
    "%%time\n",
    "\n",
    "X_b = arora_sparsification(X, e_lower_lim*5)"
   ]
  },
  {
   "cell_type": "code",
   "execution_count": 70,
   "metadata": {},
   "outputs": [
    {
     "name": "stdout",
     "output_type": "stream",
     "text": [
      "2000000 of non-zero elements before\n"
     ]
    }
   ],
   "source": [
    "print(\"%d of non-zero elements before\"%(len(X.nonzero()[0])))"
   ]
  },
  {
   "cell_type": "code",
   "execution_count": 71,
   "metadata": {},
   "outputs": [
    {
     "name": "stdout",
     "output_type": "stream",
     "text": [
      "199576 of non-zero elements after\n"
     ]
    }
   ],
   "source": [
    "print(\"%d of non-zero elements after\"%(len(X_b.nonzero()[0])))"
   ]
  },
  {
   "cell_type": "markdown",
   "metadata": {},
   "source": [
    "## Бернштейн-спарсификация"
   ]
  },
  {
   "cell_type": "code",
   "execution_count": 141,
   "metadata": {
    "collapsed": true
   },
   "outputs": [],
   "source": [
    "from numpy.random import choice"
   ]
  },
  {
   "cell_type": "code",
   "execution_count": 142,
   "metadata": {},
   "outputs": [
    {
     "name": "stdout",
     "output_type": "stream",
     "text": [
      "CPU times: user 647 µs, sys: 146 µs, total: 793 µs\n",
      "Wall time: 525 µs\n"
     ]
    }
   ],
   "source": [
    "%%time\n",
    "X_1st_norm = X.sum()"
   ]
  },
  {
   "cell_type": "code",
   "execution_count": 143,
   "metadata": {},
   "outputs": [
    {
     "name": "stdout",
     "output_type": "stream",
     "text": [
      "CPU times: user 709 ms, sys: 12 ms, total: 721 ms\n",
      "Wall time: 727 ms\n"
     ]
    }
   ],
   "source": [
    "%%time\n",
    "X = X.tolil()\n",
    "probabilities = [X[i,j]/X_1st_norm for (i, j) in zip(*X.nonzero())]\n",
    "X = X.tocsr()"
   ]
  },
  {
   "cell_type": "code",
   "execution_count": 197,
   "metadata": {},
   "outputs": [
    {
     "data": {
      "text/plain": [
       "7600902459"
      ]
     },
     "execution_count": 197,
     "metadata": {},
     "output_type": "execute_result"
    }
   ],
   "source": [
    "e = 0.001\n",
    "n_samples = int(np.log(n+m)*max(n,m)/e**2)\n",
    "n_samples"
   ]
  },
  {
   "cell_type": "code",
   "execution_count": 186,
   "metadata": {},
   "outputs": [
    {
     "data": {
      "text/plain": [
       "0.0010119005217629064"
      ]
     },
     "execution_count": 186,
     "metadata": {},
     "output_type": "execute_result"
    }
   ],
   "source": [
    "np.linalg.norm((X/X_1st_norm).todense(), ord=2)"
   ]
  },
  {
   "cell_type": "code",
   "execution_count": 187,
   "metadata": {},
   "outputs": [
    {
     "name": "stdout",
     "output_type": "stream",
     "text": [
      "CPU times: user 3.85 ms, sys: 2.63 ms, total: 6.48 ms\n",
      "Wall time: 4.65 ms\n"
     ]
    }
   ],
   "source": [
    "%%time \n",
    "sparsified_indices = choice(arange(0, len(X.nonzero()[1])), n_samples, probabilities)"
   ]
  },
  {
   "cell_type": "code",
   "execution_count": 189,
   "metadata": {},
   "outputs": [
    {
     "name": "stdout",
     "output_type": "stream",
     "text": [
      "CPU times: user 130 ms, sys: 8.38 ms, total: 139 ms\n",
      "Wall time: 139 ms\n"
     ]
    }
   ],
   "source": [
    "%%time\n",
    "indices = list(zip(*X.nonzero()))\n",
    "X_bern = sparse.lil_matrix(X.shape)\n",
    "for k in sparsified_indices:\n",
    "    i, j = indices[k]\n",
    "    X_bern[i, j] += 1\n",
    "    \n",
    "X_bern = X_bern.tocsr()\n",
    "\n",
    "X_bern /= n_samples"
   ]
  },
  {
   "cell_type": "code",
   "execution_count": 190,
   "metadata": {},
   "outputs": [
    {
     "data": {
      "text/plain": [
       "<1000x1000 sparse matrix of type '<class 'numpy.float64'>'\n",
       "\twith 7296 stored elements in Compressed Sparse Row format>"
      ]
     },
     "execution_count": 190,
     "metadata": {},
     "output_type": "execute_result"
    }
   ],
   "source": [
    "X_bern"
   ]
  },
  {
   "cell_type": "code",
   "execution_count": 191,
   "metadata": {},
   "outputs": [
    {
     "name": "stdout",
     "output_type": "stream",
     "text": [
      "0.00080 < 1.74755\n"
     ]
    }
   ],
   "source": [
    "e_real = np.linalg.norm((X/X_1st_norm - X_bern).todense(), ord=2)\n",
    "print(\"%.5f < %.5f\"%(e_real, sqrt(2)*e + e**2/3))"
   ]
  },
  {
   "cell_type": "markdown",
   "metadata": {},
   "source": [
    "Неравенство Бернштейна выполняется, но является слишком грубой оценкой"
   ]
  },
  {
   "cell_type": "markdown",
   "metadata": {},
   "source": [
    "## Метрополис-Хастингс"
   ]
  },
  {
   "cell_type": "code",
   "execution_count": 216,
   "metadata": {},
   "outputs": [
    {
     "data": {
      "text/plain": [
       "1151292"
      ]
     },
     "execution_count": 216,
     "metadata": {},
     "output_type": "execute_result"
    }
   ],
   "source": [
    "int(n*log(n))"
   ]
  },
  {
   "cell_type": "code",
   "execution_count": 221,
   "metadata": {},
   "outputs": [
    {
     "name": "stdout",
     "output_type": "stream",
     "text": [
      "100000\n",
      "200000\n",
      "300000\n",
      "400000\n",
      "500000\n",
      "600000\n",
      "700000\n",
      "800000\n",
      "900000\n",
      "1000000\n",
      "1100000\n",
      "CPU times: user 59.9 s, sys: 4.81 s, total: 1min 4s\n",
      "Wall time: 1min 5s\n"
     ]
    }
   ],
   "source": [
    "%%time\n",
    "\n",
    "X = X.tolil()\n",
    "\n",
    "if X.shape[0] != X.shape[1]:\n",
    "    print(\"m != n\")\n",
    "    \n",
    "k = 0\n",
    "b_prev = None\n",
    "X_mh = sparse.lil_matrix(X.shape)\n",
    "indices = list(zip(*X.nonzero()))\n",
    "already_got = np.zeros(len(indices))\n",
    "while k <= int(n*log(n)):\n",
    "    pt = np.random.randint(low = 0, high = len(indices))\n",
    "    if already_got[pt]:\n",
    "        continue\n",
    "    i, j = indices[pt]\n",
    "    b = X[i, j]\n",
    "    if b_prev == None:\n",
    "        X_mh[i, j] = sign(b)\n",
    "    else:\n",
    "        if random.rand() < min(abs(b)/abs(b_prev), 1):\n",
    "            X_mh[i, j] = sign(b)\n",
    "        else:\n",
    "            continue\n",
    "    b_prev = b\n",
    "    already_got[pt] = 1\n",
    "    k += 1\n",
    "\n",
    "X = X.tocsr()"
   ]
  }
 ],
 "metadata": {
  "kernelspec": {
   "display_name": "Python 3",
   "language": "python",
   "name": "python3"
  },
  "language_info": {
   "codemirror_mode": {
    "name": "ipython",
    "version": 3
   },
   "file_extension": ".py",
   "mimetype": "text/x-python",
   "name": "python",
   "nbconvert_exporter": "python",
   "pygments_lexer": "ipython3",
   "version": "3.6.1"
  }
 },
 "nbformat": 4,
 "nbformat_minor": 2
}
