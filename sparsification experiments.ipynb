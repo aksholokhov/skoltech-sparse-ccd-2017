{
 "cells": [
  {
   "cell_type": "code",
   "execution_count": 1,
   "metadata": {
    "collapsed": true
   },
   "outputs": [],
   "source": [
    "%load_ext autoreload\n",
    "\n",
    "%autoreload 2"
   ]
  },
  {
   "cell_type": "code",
   "execution_count": 2,
   "metadata": {
    "scrolled": true
   },
   "outputs": [
    {
     "name": "stdout",
     "output_type": "stream",
     "text": [
      "Populating the interactive namespace from numpy and matplotlib\n"
     ]
    }
   ],
   "source": [
    "%pylab inline\n",
    "from sklearn.datasets import make_regression\n",
    "from sklearn.linear_model import Ridge\n",
    "from numpy.linalg import norm\n",
    "from numpy import copy\n",
    "\n",
    "from scipy.stats import probplot\n",
    "import scipy as sp\n",
    "\n",
    "from ipywidgets import FloatProgress\n",
    "from IPython.display import display\n",
    "\n",
    "import timeit\n",
    "\n",
    "import fibonacci_heap_mod as fhm\n",
    "\n",
    "from scipy.sparse import csr_matrix\n",
    "from scipy import sparse\n",
    "\n",
    "import sys"
   ]
  },
  {
   "cell_type": "markdown",
   "metadata": {},
   "source": [
    "## Спарсификация исходных данных"
   ]
  },
  {
   "cell_type": "code",
   "execution_count": 56,
   "metadata": {
    "collapsed": true
   },
   "outputs": [],
   "source": [
    "import numpy as np\n",
    "from scipy import sparse\n",
    "\n",
    "class SparsificationException(Exception):\n",
    "    pass\n",
    "\n",
    "\n",
    "def arora_sparsification(M, e = None, random_seed = None):\n",
    "    if random_seed is not None:\n",
    "        np.random.seed(random_seed)\n",
    "\n",
    "    if e is None:\n",
    "        e = M.max()\n",
    "\n",
    "    A = sparse.lil_matrix(M.copy())\n",
    "\n",
    "    for i, j in zip(*A.nonzero()):\n",
    "        x = A[i, j]\n",
    "        if abs(x) > e:\n",
    "            continue\n",
    "        p = abs(x)/e\n",
    "        if p > 1 or p < 0:\n",
    "            raise SparsificationException(\"Inadequate probability on (%d, %d): %.2f\"%(i, j, p))\n",
    "        if np.random.rand() <= p:\n",
    "            A[i, j] = np.sign(x)*e\n",
    "        else:\n",
    "            A[i, j] = 0\n",
    "\n",
    "    return A"
   ]
  },
  {
   "cell_type": "markdown",
   "metadata": {},
   "source": [
    "## Тест быстродействия"
   ]
  },
  {
   "cell_type": "code",
   "execution_count": 68,
   "metadata": {},
   "outputs": [
    {
     "name": "stdout",
     "output_type": "stream",
     "text": [
      "2000000\n",
      "CPU times: user 7.32 s, sys: 249 ms, total: 7.57 s\n",
      "Wall time: 7.67 s\n"
     ]
    }
   ],
   "source": [
    "%%time\n",
    "\n",
    "n = 1e6\n",
    "m = n\n",
    "mu = 1/n\n",
    "X = sparse.rand(m, n, density=2/n)\n",
    "x_true = np.random.rand(int(n))\n",
    "x_true /= x_true.sum()\n",
    "y = X.dot(x_true.T)\n",
    "e_lower_lim = X.max()\n",
    "print(len(X.nonzero()[0]))\n",
    "start_point = np.random.rand(int(n))\n",
    "start_point /= sum(start_point)"
   ]
  },
  {
   "cell_type": "code",
   "execution_count": 69,
   "metadata": {},
   "outputs": [
    {
     "name": "stdout",
     "output_type": "stream",
     "text": [
      "CPU times: user 39.1 s, sys: 998 ms, total: 40.1 s\n",
      "Wall time: 41.1 s\n"
     ]
    }
   ],
   "source": [
    "%%time\n",
    "\n",
    "X_b = arora_sparsification(X, e_lower_lim*5)"
   ]
  },
  {
   "cell_type": "code",
   "execution_count": 70,
   "metadata": {},
   "outputs": [
    {
     "name": "stdout",
     "output_type": "stream",
     "text": [
      "2000000 of non-zero elements before\n"
     ]
    }
   ],
   "source": [
    "print(\"%d of non-zero elements before\"%(len(X.nonzero()[0])))"
   ]
  },
  {
   "cell_type": "code",
   "execution_count": 71,
   "metadata": {},
   "outputs": [
    {
     "name": "stdout",
     "output_type": "stream",
     "text": [
      "199576 of non-zero elements after\n"
     ]
    }
   ],
   "source": [
    "print(\"%d of non-zero elements after\"%(len(X_b.nonzero()[0])))"
   ]
  }
 ],
 "metadata": {
  "kernelspec": {
   "display_name": "Python 3",
   "language": "python",
   "name": "python3"
  },
  "language_info": {
   "codemirror_mode": {
    "name": "ipython",
    "version": 3
   },
   "file_extension": ".py",
   "mimetype": "text/x-python",
   "name": "python",
   "nbconvert_exporter": "python",
   "pygments_lexer": "ipython3",
   "version": "3.6.1"
  }
 },
 "nbformat": 4,
 "nbformat_minor": 2
}
