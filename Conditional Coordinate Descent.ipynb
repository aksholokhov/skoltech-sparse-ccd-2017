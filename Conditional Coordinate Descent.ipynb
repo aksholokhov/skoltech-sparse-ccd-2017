{
 "cells": [
  {
   "cell_type": "code",
   "execution_count": 1,
   "metadata": {
    "collapsed": true
   },
   "outputs": [
    {
     "ename": "NameError",
     "evalue": "name 'np' is not defined",
     "output_type": "error",
     "traceback": [
      "\u001b[0;31m---------------------------------------------------------------------------\u001b[0m",
      "\u001b[0;31mNameError\u001b[0m                                 Traceback (most recent call last)",
      "\u001b[0;32m<ipython-input-1-ae14fe684830>\u001b[0m in \u001b[0;36m<module>\u001b[0;34m()\u001b[0m\n\u001b[1;32m      3\u001b[0m \u001b[0ma\u001b[0m \u001b[0;34m+=\u001b[0m \u001b[0;34m[\u001b[0m\u001b[0;36m6\u001b[0m\u001b[0;34m,\u001b[0m\u001b[0;36m8\u001b[0m\u001b[0;34m,\u001b[0m\u001b[0;36m8\u001b[0m\u001b[0;34m,\u001b[0m\u001b[0;36m9\u001b[0m\u001b[0;34m,\u001b[0m\u001b[0;36m7\u001b[0m\u001b[0;34m,\u001b[0m\u001b[0;36m8\u001b[0m\u001b[0;34m,\u001b[0m\u001b[0;36m10\u001b[0m\u001b[0;34m]\u001b[0m\u001b[0;34m\u001b[0m\u001b[0m\n\u001b[1;32m      4\u001b[0m \u001b[0ma\u001b[0m \u001b[0;34m+=\u001b[0m \u001b[0;34m[\u001b[0m\u001b[0;36m9\u001b[0m\u001b[0;34m,\u001b[0m\u001b[0;36m9\u001b[0m\u001b[0;34m,\u001b[0m\u001b[0;36m9\u001b[0m\u001b[0;34m,\u001b[0m\u001b[0;36m8\u001b[0m\u001b[0;34m,\u001b[0m\u001b[0;36m10\u001b[0m\u001b[0;34m,\u001b[0m\u001b[0;36m7\u001b[0m\u001b[0;34m,\u001b[0m\u001b[0;36m8\u001b[0m\u001b[0;34m,\u001b[0m\u001b[0;36m10\u001b[0m\u001b[0;34m,\u001b[0m\u001b[0;36m10\u001b[0m\u001b[0;34m,\u001b[0m\u001b[0;36m8\u001b[0m\u001b[0;34m]\u001b[0m\u001b[0;34m\u001b[0m\u001b[0m\n\u001b[0;32m----> 5\u001b[0;31m \u001b[0mnp\u001b[0m\u001b[0;34m.\u001b[0m\u001b[0mmean\u001b[0m\u001b[0;34m(\u001b[0m\u001b[0ma\u001b[0m\u001b[0;34m)\u001b[0m\u001b[0;34m\u001b[0m\u001b[0m\n\u001b[0m",
      "\u001b[0;31mNameError\u001b[0m: name 'np' is not defined"
     ]
    }
   ],
   "source": [
    "a = [7,7,9,7,10,9,9]\n",
    "a += [9,7,10,7,7,7,8,9,8]\n",
    "a += [6,8,8,9,7,8,10]\n",
    "a += [9,9,9,8,10,7,8,10,10,8]\n",
    "np.mean(a)"
   ]
  },
  {
   "cell_type": "code",
   "execution_count": 2,
   "metadata": {
    "collapsed": true
   },
   "outputs": [],
   "source": [
    "%load_ext autoreload\n",
    "\n",
    "%autoreload 2"
   ]
  },
  {
   "cell_type": "code",
   "execution_count": 3,
   "metadata": {
    "scrolled": true
   },
   "outputs": [
    {
     "name": "stdout",
     "output_type": "stream",
     "text": [
      "Populating the interactive namespace from numpy and matplotlib\n"
     ]
    }
   ],
   "source": [
    "%pylab inline\n",
    "from sklearn.datasets import make_regression\n",
    "from sklearn.linear_model import Ridge\n",
    "from numpy.linalg import norm\n",
    "from numpy import copy\n",
    "\n",
    "from scipy.stats import probplot\n",
    "import scipy as sp\n",
    "\n",
    "from ipywidgets import FloatProgress\n",
    "from IPython.display import display\n",
    "\n",
    "import timeit\n",
    "\n",
    "import fibonacci_heap_mod as fhm\n",
    "\n",
    "from scipy.sparse import csr_matrix\n",
    "from scipy import sparse"
   ]
  },
  {
   "cell_type": "markdown",
   "metadata": {},
   "source": [
    "## Постановка задачи"
   ]
  },
  {
   "cell_type": "markdown",
   "metadata": {},
   "source": [
    "$$\\begin{array}{lcl} f(x) = \\frac{1}{2} \\left\\lVert Ax-y\\right\\rVert^{2} + \\frac{\\mu}{2} \\left\\lVert x\\right\\rVert^{2} \\\\\n",
    "\\nabla f(x) = \\mu x + A^T  (Ax - y) \\end{array}$$"
   ]
  },
  {
   "cell_type": "markdown",
   "metadata": {},
   "source": [
    "Где $A$ -- плотная $m\\cdot n$ матрица <br>\n",
    "$y$ -- $m\\cdot 1$ вектор ответов <br>\n",
    "$x$ -- $n\\cdot 1$ искомый вектор"
   ]
  },
  {
   "cell_type": "markdown",
   "metadata": {},
   "source": [
    "Пусть:"
   ]
  },
  {
   "cell_type": "markdown",
   "metadata": {},
   "source": [
    "$H = \\widetilde{A}^T\\widetilde{A} + \\mu \\widetilde{I}$"
   ]
  },
  {
   "cell_type": "markdown",
   "metadata": {},
   "source": [
    "Где:"
   ]
  },
  {
   "cell_type": "markdown",
   "metadata": {},
   "source": [
    "$\\widetilde{A} = \\begin{bmatrix} y & -X \\end{bmatrix}$\n",
    "$\\widetilde{I} = \\begin{bmatrix} 0 & 0 \\\\ 0 & I_n \\end{bmatrix}$"
   ]
  },
  {
   "cell_type": "markdown",
   "metadata": {},
   "source": [
    "Дополним пространство $D$ допустимых ответов как $\\widetilde{D} = \\{1\\}\\times D$, и перепишем исходную задачу как:"
   ]
  },
  {
   "cell_type": "markdown",
   "metadata": {},
   "source": [
    "$\\widetilde{f}(\\beta) = \\left(\\widetilde{A}\\beta\\right)^T\\left(\\widetilde{A}\\beta\\right)^T + \\beta^T\\widetilde{I}\\beta \\to \\min_\\limits{\\beta \\in \\widetilde{D}}$"
   ]
  },
  {
   "cell_type": "markdown",
   "metadata": {},
   "source": [
    "Дифференцируя по $\\beta$ получаем:"
   ]
  },
  {
   "cell_type": "markdown",
   "metadata": {},
   "source": [
    "$\\nabla \\widetilde{f}(\\beta) = H\\beta$"
   ]
  },
  {
   "cell_type": "markdown",
   "metadata": {},
   "source": [
    "Вводя $z_k = \\frac{x_k}{b_k}$ сохраняя обозначения из статьи получаем, что:"
   ]
  },
  {
   "cell_type": "markdown",
   "metadata": {},
   "source": [
    "$\\arg \\min H\\beta_k \\sim \\arg\\min H \\begin{bmatrix}b_{k+1}^{-1} \\\\ z_k\\end{bmatrix}$"
   ]
  },
  {
   "cell_type": "markdown",
   "metadata": {},
   "source": [
    "## Спарсификация исходных данных"
   ]
  },
  {
   "cell_type": "code",
   "execution_count": 4,
   "metadata": {
    "collapsed": true
   },
   "outputs": [],
   "source": [
    "from lib.sparsification import arora_sparsification, bernstein_sparsification, metropolis_sparsification"
   ]
  },
  {
   "cell_type": "markdown",
   "metadata": {},
   "source": [
    "## Алгоритм на csr-матрицах"
   ]
  },
  {
   "cell_type": "code",
   "execution_count": 8,
   "metadata": {
    "scrolled": true
   },
   "outputs": [
    {
     "name": "stdout",
     "output_type": "stream",
     "text": [
      "100.000000% of non-zero elements\n",
      "10000 non-zero elements\n",
      "CPU times: user 5.91 ms, sys: 1.31 ms, total: 7.22 ms\n",
      "Wall time: 5.95 ms\n"
     ]
    }
   ],
   "source": [
    "%%time\n",
    "\n",
    "n = int(1e2)\n",
    "m = n\n",
    "mu = 1/n\n",
    "X = sparse.rand(m, n, density=1).tocsr()\n",
    "x_true = sparse.rand(1, n, density=1).tocsr()\n",
    "#X = arora_sparsification(array(X), 15*e_lower_lim)\n",
    "x_true /= x_true.sum()\n",
    "y = X.dot(x_true.T)\n",
    "e_lower_lim = X.max()\n",
    "print(\"%.6f%% of non-zero elements\"%(100*len(X.nonzero()[1])/(n*m)))\n",
    "print(\"%d non-zero elements\"%(len(X.nonzero()[1])))\n",
    "start_point = sparse.rand(1, n, density=100/n).tocsr()\n",
    "start_point /= start_point.sum()"
   ]
  },
  {
   "cell_type": "code",
   "execution_count": 229,
   "metadata": {
    "collapsed": true
   },
   "outputs": [
    {
     "name": "stdout",
     "output_type": "stream",
     "text": [
      "0 1.0\n",
      "3 0.0176951425935\n",
      "5 0.0186162146544\n",
      "7 0.00403482712507\n",
      "18 0.000388666098522\n",
      "25 0.00395741074661\n",
      "33 0.00622869782882\n",
      "34 0.00145620946066\n",
      "57 0.0190479831627\n",
      "62 0.000322379620868\n",
      "108 0.00466889789106\n",
      "127 0.0086783748065\n",
      "138 0.0136555182852\n",
      "146 0.00545403204791\n",
      "148 0.00543918736193\n",
      "156 0.0114881313685\n",
      "184 0.011887185474\n",
      "191 0.00390974355024\n",
      "198 0.0028188114474\n",
      "201 0.00847329081171\n",
      "209 0.0180349885571\n",
      "212 0.00432465715176\n",
      "217 0.0177407889589\n",
      "223 0.0120587364629\n",
      "234 0.008289712646\n",
      "246 0.00181257525612\n",
      "247 0.0123598164845\n",
      "262 0.014597787124\n",
      "268 0.0135922042588\n",
      "276 0.015995367494\n",
      "280 0.0135181383142\n",
      "281 0.00953858805987\n",
      "312 0.018686331038\n",
      "336 0.0134577581801\n",
      "358 0.00691127353568\n",
      "365 0.0129163912549\n",
      "373 0.00535561115987\n",
      "383 0.00704059861504\n",
      "384 0.0181035833055\n",
      "388 0.0159012207671\n",
      "404 0.0190198448092\n",
      "422 0.012321659567\n",
      "434 0.0113321824559\n",
      "439 0.00177487668276\n",
      "442 0.00441392430732\n",
      "455 0.0144687504535\n",
      "458 0.019577394489\n",
      "487 0.0193445733504\n",
      "495 0.00401530825857\n",
      "497 0.0188045414631\n",
      "504 0.00191319853634\n",
      "505 0.00236561782679\n",
      "549 0.0134731565132\n",
      "550 0.00152299611254\n",
      "558 0.0163223392726\n",
      "569 0.00788129976435\n",
      "573 0.000678623110902\n",
      "574 0.00835816127932\n",
      "580 0.0174893363919\n",
      "582 0.0184987654437\n",
      "583 0.0123298083593\n",
      "590 0.00882177579756\n",
      "594 0.000594994579704\n",
      "604 0.0181868625239\n",
      "623 0.0117834646274\n",
      "625 0.0183357534035\n",
      "635 0.0146459067133\n",
      "651 0.00994401827044\n",
      "655 0.00402843578774\n",
      "667 0.00236806272577\n",
      "683 0.0107281408931\n",
      "685 0.000299461053712\n",
      "688 0.0116602019081\n",
      "694 0.0129848564768\n",
      "698 0.0121622500749\n",
      "703 0.00585391373739\n",
      "705 0.00281884931972\n",
      "710 0.0193220817043\n",
      "739 0.00267366021663\n",
      "740 0.0019119241105\n",
      "760 0.0102916408202\n",
      "767 0.0168542750526\n",
      "776 0.0188514271677\n",
      "780 0.00525988560867\n",
      "795 0.0139959718851\n",
      "820 0.00811138293288\n",
      "832 0.000841346065302\n",
      "835 0.00546654665806\n",
      "861 0.0183525726097\n",
      "864 0.0185069867126\n",
      "865 0.0144137767476\n",
      "873 0.00120946756411\n",
      "876 0.0104819608459\n",
      "901 0.0168282042767\n",
      "928 0.00242599726159\n",
      "949 0.00719803870532\n",
      "957 0.00324366892011\n",
      "958 0.00988336939695\n",
      "976 0.000702601778432\n",
      "995 0.0195729397048\n",
      "999 0.0140201339534\n"
     ]
    }
   ],
   "source": [
    "x1 = sparse.hstack([sparse.eye(1), start_point]).tolil()\n",
    "for _, i in zip(*x1.nonzero()):\n",
    "    print(i, x1[0, i])"
   ]
  },
  {
   "cell_type": "code",
   "execution_count": 129,
   "metadata": {},
   "outputs": [
    {
     "name": "stdout",
     "output_type": "stream",
     "text": [
      "3.2% of non-zero elements\n"
     ]
    }
   ],
   "source": [
    "n = 100\n",
    "m = 100\n",
    "mu = 1/n\n",
    "X = rand(m, n)\n",
    "x_true = rand(n)\n",
    "x_true /= sum(x_true)\n",
    "y = dot(X, x_true)\n",
    "e_lower_lim = X.max()\n",
    "X = arora_sparsification(array(X), 15*e_lower_lim)\n",
    "print(\"%.1f%% of non-zero elements\"%(100*sum(X != 0)/(n*m)))\n",
    "\n",
    "start_point = rand(n)\n",
    "start_point /= sum(start_point)"
   ]
  },
  {
   "cell_type": "code",
   "execution_count": 11,
   "metadata": {
    "collapsed": true
   },
   "outputs": [],
   "source": [
    "from lib.optimization import CCD_sparse"
   ]
  },
  {
   "cell_type": "code",
   "execution_count": 9,
   "metadata": {
    "scrolled": true
   },
   "outputs": [
    {
     "name": "stdout",
     "output_type": "stream",
     "text": [
      "CPU times: user 140 ms, sys: 2.66 ms, total: 142 ms\n",
      "Wall time: 143 ms\n"
     ]
    },
    {
     "name": "stderr",
     "output_type": "stream",
     "text": [
      "/Users/aksholokhov/.anaconda/lib/python3.6/site-packages/sklearn/linear_model/sag.py:286: ConvergenceWarning: The max_iter was reached which means the coef_ did not converge\n",
      "  \"the coef_ did not converge\", ConvergenceWarning)\n"
     ]
    }
   ],
   "source": [
    "%%time\n",
    "\n",
    "alg = Ridge(alpha=1/n, tol=1e-7)\n",
    "alg.fit(X, np.squeeze(y.toarray()))\n",
    "x_sklearn = alg.coef_\n",
    "error = norm(alg.predict(X) - y)\n",
    "error"
   ]
  },
  {
   "cell_type": "code",
   "execution_count": 21,
   "metadata": {
    "scrolled": false
   },
   "outputs": [
    {
     "ename": "ValueError",
     "evalue": "dimension mismatch",
     "output_type": "error",
     "traceback": [
      "\u001b[0;31m---------------------------------------------------------------------------\u001b[0m",
      "\u001b[0;31mValueError\u001b[0m                                Traceback (most recent call last)",
      "\u001b[0;32m<ipython-input-21-9adfb4a0566d>\u001b[0m in \u001b[0;36m<module>\u001b[0;34m()\u001b[0m\n\u001b[0;32m----> 1\u001b[0;31m \u001b[0mget_ipython\u001b[0m\u001b[0;34m(\u001b[0m\u001b[0;34m)\u001b[0m\u001b[0;34m.\u001b[0m\u001b[0mrun_cell_magic\u001b[0m\u001b[0;34m(\u001b[0m\u001b[0;34m'time'\u001b[0m\u001b[0;34m,\u001b[0m \u001b[0;34m''\u001b[0m\u001b[0;34m,\u001b[0m \u001b[0;34m'x, message, history = CCD_sparse(X, y, mu, start_point, e = 1e-3, k_max = 300)'\u001b[0m\u001b[0;34m)\u001b[0m\u001b[0;34m\u001b[0m\u001b[0m\n\u001b[0m",
      "\u001b[0;32m/Users/aksholokhov/.anaconda/lib/python3.6/site-packages/IPython/core/interactiveshell.py\u001b[0m in \u001b[0;36mrun_cell_magic\u001b[0;34m(self, magic_name, line, cell)\u001b[0m\n\u001b[1;32m   2113\u001b[0m             \u001b[0mmagic_arg_s\u001b[0m \u001b[0;34m=\u001b[0m \u001b[0mself\u001b[0m\u001b[0;34m.\u001b[0m\u001b[0mvar_expand\u001b[0m\u001b[0;34m(\u001b[0m\u001b[0mline\u001b[0m\u001b[0;34m,\u001b[0m \u001b[0mstack_depth\u001b[0m\u001b[0;34m)\u001b[0m\u001b[0;34m\u001b[0m\u001b[0m\n\u001b[1;32m   2114\u001b[0m             \u001b[0;32mwith\u001b[0m \u001b[0mself\u001b[0m\u001b[0;34m.\u001b[0m\u001b[0mbuiltin_trap\u001b[0m\u001b[0;34m:\u001b[0m\u001b[0;34m\u001b[0m\u001b[0m\n\u001b[0;32m-> 2115\u001b[0;31m                 \u001b[0mresult\u001b[0m \u001b[0;34m=\u001b[0m \u001b[0mfn\u001b[0m\u001b[0;34m(\u001b[0m\u001b[0mmagic_arg_s\u001b[0m\u001b[0;34m,\u001b[0m \u001b[0mcell\u001b[0m\u001b[0;34m)\u001b[0m\u001b[0;34m\u001b[0m\u001b[0m\n\u001b[0m\u001b[1;32m   2116\u001b[0m             \u001b[0;32mreturn\u001b[0m \u001b[0mresult\u001b[0m\u001b[0;34m\u001b[0m\u001b[0m\n\u001b[1;32m   2117\u001b[0m \u001b[0;34m\u001b[0m\u001b[0m\n",
      "\u001b[0;32m<decorator-gen-59>\u001b[0m in \u001b[0;36mtime\u001b[0;34m(self, line, cell, local_ns)\u001b[0m\n",
      "\u001b[0;32m/Users/aksholokhov/.anaconda/lib/python3.6/site-packages/IPython/core/magic.py\u001b[0m in \u001b[0;36m<lambda>\u001b[0;34m(f, *a, **k)\u001b[0m\n\u001b[1;32m    186\u001b[0m     \u001b[0;31m# but it's overkill for just that one bit of state.\u001b[0m\u001b[0;34m\u001b[0m\u001b[0;34m\u001b[0m\u001b[0m\n\u001b[1;32m    187\u001b[0m     \u001b[0;32mdef\u001b[0m \u001b[0mmagic_deco\u001b[0m\u001b[0;34m(\u001b[0m\u001b[0marg\u001b[0m\u001b[0;34m)\u001b[0m\u001b[0;34m:\u001b[0m\u001b[0;34m\u001b[0m\u001b[0m\n\u001b[0;32m--> 188\u001b[0;31m         \u001b[0mcall\u001b[0m \u001b[0;34m=\u001b[0m \u001b[0;32mlambda\u001b[0m \u001b[0mf\u001b[0m\u001b[0;34m,\u001b[0m \u001b[0;34m*\u001b[0m\u001b[0ma\u001b[0m\u001b[0;34m,\u001b[0m \u001b[0;34m**\u001b[0m\u001b[0mk\u001b[0m\u001b[0;34m:\u001b[0m \u001b[0mf\u001b[0m\u001b[0;34m(\u001b[0m\u001b[0;34m*\u001b[0m\u001b[0ma\u001b[0m\u001b[0;34m,\u001b[0m \u001b[0;34m**\u001b[0m\u001b[0mk\u001b[0m\u001b[0;34m)\u001b[0m\u001b[0;34m\u001b[0m\u001b[0m\n\u001b[0m\u001b[1;32m    189\u001b[0m \u001b[0;34m\u001b[0m\u001b[0m\n\u001b[1;32m    190\u001b[0m         \u001b[0;32mif\u001b[0m \u001b[0mcallable\u001b[0m\u001b[0;34m(\u001b[0m\u001b[0marg\u001b[0m\u001b[0;34m)\u001b[0m\u001b[0;34m:\u001b[0m\u001b[0;34m\u001b[0m\u001b[0m\n",
      "\u001b[0;32m/Users/aksholokhov/.anaconda/lib/python3.6/site-packages/IPython/core/magics/execution.py\u001b[0m in \u001b[0;36mtime\u001b[0;34m(self, line, cell, local_ns)\u001b[0m\n\u001b[1;32m   1183\u001b[0m         \u001b[0;32melse\u001b[0m\u001b[0;34m:\u001b[0m\u001b[0;34m\u001b[0m\u001b[0m\n\u001b[1;32m   1184\u001b[0m             \u001b[0mst\u001b[0m \u001b[0;34m=\u001b[0m \u001b[0mclock2\u001b[0m\u001b[0;34m(\u001b[0m\u001b[0;34m)\u001b[0m\u001b[0;34m\u001b[0m\u001b[0m\n\u001b[0;32m-> 1185\u001b[0;31m             \u001b[0mexec\u001b[0m\u001b[0;34m(\u001b[0m\u001b[0mcode\u001b[0m\u001b[0;34m,\u001b[0m \u001b[0mglob\u001b[0m\u001b[0;34m,\u001b[0m \u001b[0mlocal_ns\u001b[0m\u001b[0;34m)\u001b[0m\u001b[0;34m\u001b[0m\u001b[0m\n\u001b[0m\u001b[1;32m   1186\u001b[0m             \u001b[0mend\u001b[0m \u001b[0;34m=\u001b[0m \u001b[0mclock2\u001b[0m\u001b[0;34m(\u001b[0m\u001b[0;34m)\u001b[0m\u001b[0;34m\u001b[0m\u001b[0m\n\u001b[1;32m   1187\u001b[0m             \u001b[0mout\u001b[0m \u001b[0;34m=\u001b[0m \u001b[0;32mNone\u001b[0m\u001b[0;34m\u001b[0m\u001b[0m\n",
      "\u001b[0;32m<timed exec>\u001b[0m in \u001b[0;36m<module>\u001b[0;34m()\u001b[0m\n",
      "\u001b[0;32m/Users/aksholokhov/Google Диск/Documents/Jobs/Skoltech/Maximov/Conditional Gradient Descent/sk17-sparse-ccd/lib/optimization.py\u001b[0m in \u001b[0;36mCCD_sparse\u001b[0;34m(X, y, mu, x0, e, k_max, history_elements)\u001b[0m\n\u001b[1;32m     29\u001b[0m \u001b[0;34m\u001b[0m\u001b[0m\n\u001b[1;32m     30\u001b[0m     \u001b[0mg_x\u001b[0m \u001b[0;34m=\u001b[0m \u001b[0mH\u001b[0m\u001b[0;34m.\u001b[0m\u001b[0mdot\u001b[0m\u001b[0;34m(\u001b[0m\u001b[0mx0_ext\u001b[0m\u001b[0;34m.\u001b[0m\u001b[0mT\u001b[0m\u001b[0;34m)\u001b[0m\u001b[0;34m.\u001b[0m\u001b[0mT\u001b[0m\u001b[0;34m\u001b[0m\u001b[0m\n\u001b[0;32m---> 31\u001b[0;31m     \u001b[0mreal_g_x\u001b[0m \u001b[0;34m=\u001b[0m \u001b[0;36m2\u001b[0m\u001b[0;34m*\u001b[0m\u001b[0mX\u001b[0m\u001b[0;34m.\u001b[0m\u001b[0mT\u001b[0m\u001b[0;34m.\u001b[0m\u001b[0mdot\u001b[0m\u001b[0;34m(\u001b[0m\u001b[0mX\u001b[0m\u001b[0;34m.\u001b[0m\u001b[0mdot\u001b[0m\u001b[0;34m(\u001b[0m\u001b[0mx0\u001b[0m\u001b[0;34m)\u001b[0m \u001b[0;34m-\u001b[0m \u001b[0my\u001b[0m\u001b[0;34m)\u001b[0m \u001b[0;34m+\u001b[0m \u001b[0mmu\u001b[0m\u001b[0;34m*\u001b[0m\u001b[0mx0\u001b[0m\u001b[0;34m\u001b[0m\u001b[0m\n\u001b[0m\u001b[1;32m     32\u001b[0m \u001b[0;34m\u001b[0m\u001b[0m\n\u001b[1;32m     33\u001b[0m     \u001b[0mprint\u001b[0m\u001b[0;34m(\u001b[0m\u001b[0mnp\u001b[0m\u001b[0;34m.\u001b[0m\u001b[0marray\u001b[0m\u001b[0;34m(\u001b[0m\u001b[0mzip\u001b[0m\u001b[0;34m(\u001b[0m\u001b[0mnp\u001b[0m\u001b[0;34m.\u001b[0m\u001b[0msqueeze\u001b[0m\u001b[0;34m(\u001b[0m\u001b[0mg_x\u001b[0m\u001b[0;34m.\u001b[0m\u001b[0mtoarray\u001b[0m\u001b[0;34m(\u001b[0m\u001b[0;34m)\u001b[0m\u001b[0;34m)\u001b[0m\u001b[0;34m[\u001b[0m\u001b[0;36m1\u001b[0m\u001b[0;34m:\u001b[0m\u001b[0;34m]\u001b[0m\u001b[0;34m,\u001b[0m \u001b[0mnp\u001b[0m\u001b[0;34m.\u001b[0m\u001b[0msqueeze\u001b[0m\u001b[0;34m(\u001b[0m\u001b[0mreal_g_x\u001b[0m\u001b[0;34m.\u001b[0m\u001b[0mtoarray\u001b[0m\u001b[0;34m(\u001b[0m\u001b[0;34m)\u001b[0m\u001b[0;34m)\u001b[0m\u001b[0;34m)\u001b[0m\u001b[0;34m)\u001b[0m\u001b[0;34m)\u001b[0m\u001b[0;34m\u001b[0m\u001b[0m\n",
      "\u001b[0;32m/Users/aksholokhov/.anaconda/lib/python3.6/site-packages/scipy/sparse/base.py\u001b[0m in \u001b[0;36mdot\u001b[0;34m(self, other)\u001b[0m\n\u001b[1;32m    300\u001b[0m \u001b[0;34m\u001b[0m\u001b[0m\n\u001b[1;32m    301\u001b[0m         \"\"\"\n\u001b[0;32m--> 302\u001b[0;31m         \u001b[0;32mreturn\u001b[0m \u001b[0mself\u001b[0m \u001b[0;34m*\u001b[0m \u001b[0mother\u001b[0m\u001b[0;34m\u001b[0m\u001b[0m\n\u001b[0m\u001b[1;32m    303\u001b[0m \u001b[0;34m\u001b[0m\u001b[0m\n\u001b[1;32m    304\u001b[0m     \u001b[0;32mdef\u001b[0m \u001b[0mpower\u001b[0m\u001b[0;34m(\u001b[0m\u001b[0mself\u001b[0m\u001b[0;34m,\u001b[0m \u001b[0mn\u001b[0m\u001b[0;34m,\u001b[0m \u001b[0mdtype\u001b[0m\u001b[0;34m=\u001b[0m\u001b[0;32mNone\u001b[0m\u001b[0;34m)\u001b[0m\u001b[0;34m:\u001b[0m\u001b[0;34m\u001b[0m\u001b[0m\n",
      "\u001b[0;32m/Users/aksholokhov/.anaconda/lib/python3.6/site-packages/scipy/sparse/base.py\u001b[0m in \u001b[0;36m__mul__\u001b[0;34m(self, other)\u001b[0m\n\u001b[1;32m    366\u001b[0m         \u001b[0;32mif\u001b[0m \u001b[0missparse\u001b[0m\u001b[0;34m(\u001b[0m\u001b[0mother\u001b[0m\u001b[0;34m)\u001b[0m\u001b[0;34m:\u001b[0m\u001b[0;34m\u001b[0m\u001b[0m\n\u001b[1;32m    367\u001b[0m             \u001b[0;32mif\u001b[0m \u001b[0mself\u001b[0m\u001b[0;34m.\u001b[0m\u001b[0mshape\u001b[0m\u001b[0;34m[\u001b[0m\u001b[0;36m1\u001b[0m\u001b[0;34m]\u001b[0m \u001b[0;34m!=\u001b[0m \u001b[0mother\u001b[0m\u001b[0;34m.\u001b[0m\u001b[0mshape\u001b[0m\u001b[0;34m[\u001b[0m\u001b[0;36m0\u001b[0m\u001b[0;34m]\u001b[0m\u001b[0;34m:\u001b[0m\u001b[0;34m\u001b[0m\u001b[0m\n\u001b[0;32m--> 368\u001b[0;31m                 \u001b[0;32mraise\u001b[0m \u001b[0mValueError\u001b[0m\u001b[0;34m(\u001b[0m\u001b[0;34m'dimension mismatch'\u001b[0m\u001b[0;34m)\u001b[0m\u001b[0;34m\u001b[0m\u001b[0m\n\u001b[0m\u001b[1;32m    369\u001b[0m             \u001b[0;32mreturn\u001b[0m \u001b[0mself\u001b[0m\u001b[0;34m.\u001b[0m\u001b[0m_mul_sparse_matrix\u001b[0m\u001b[0;34m(\u001b[0m\u001b[0mother\u001b[0m\u001b[0;34m)\u001b[0m\u001b[0;34m\u001b[0m\u001b[0m\n\u001b[1;32m    370\u001b[0m \u001b[0;34m\u001b[0m\u001b[0m\n",
      "\u001b[0;31mValueError\u001b[0m: dimension mismatch"
     ]
    }
   ],
   "source": [
    "%%time\n",
    "x, message, history = CCD_sparse(X, y, mu, start_point, e = 1e-3, k_max = 300)"
   ]
  },
  {
   "cell_type": "code",
   "execution_count": 13,
   "metadata": {},
   "outputs": [
    {
     "data": {
      "text/plain": [
       "[<matplotlib.lines.Line2D at 0x112f28048>]"
      ]
     },
     "execution_count": 13,
     "metadata": {},
     "output_type": "execute_result"
    },
    {
     "data": {
      "image/png": "[encoded data removed]",
      "text/plain": [
       "<matplotlib.figure.Figure at 0x10fb9aef0>"
      ]
     },
     "metadata": {},
     "output_type": "display_data"
    }
   ],
   "source": [
    "semilogy(history[\"time\"], history[\"g_norm\"])\n",
    "scatter()"
   ]
  },
  {
   "cell_type": "code",
   "execution_count": 442,
   "metadata": {
    "scrolled": true
   },
   "outputs": [
    {
     "name": "stdout",
     "output_type": "stream",
     "text": [
      "     SkLearn          CCD\n",
      "[[  0.00000000e+00   0.00000000e+00]\n",
      " [  0.00000000e+00   0.00000000e+00]\n",
      " [  0.00000000e+00   0.00000000e+00]\n",
      " [  0.00000000e+00   0.00000000e+00]\n",
      " [  0.00000000e+00   0.00000000e+00]\n",
      " [  0.00000000e+00   3.95093096e-05]\n",
      " [  0.00000000e+00   0.00000000e+00]\n",
      " [  0.00000000e+00   0.00000000e+00]\n",
      " [  0.00000000e+00   0.00000000e+00]\n",
      " [  0.00000000e+00   0.00000000e+00]]\n",
      "CCD with armiho: 133 iterations\n",
      "               Accuracy\n",
      "       31.4798         2.2056        69.4898\n"
     ]
    }
   ],
   "source": [
    "print(\"%12s %12s\"%(\"SkLearn\", \"CCD\"))\n",
    "print(array([np.squeeze(x_true.toarray()), np.squeeze(x_ccd_a.toarray())]).T[:10])\n",
    "print(\"CCD with armiho: %d iterations\"%(steps_ccd_a))\n",
    "#print(\"CCD wi/o armiho: %d iterations\"%(steps_ccd))\n",
    "print(\"%23s\"%\"Accuracy\")\n",
    "print(\"%14.4f %14.4f %14.4f\"%(norm(alg.predict(X) - y), \n",
    "                        norm(np.squeeze((X.dot(x_ccd_a.T) - y).toarray())),\n",
    "                        norm(X.dot(x_ccd_a.T) - alg.predict(X))))"
   ]
  },
  {
   "cell_type": "code",
   "execution_count": 422,
   "metadata": {},
   "outputs": [
    {
     "data": {
      "text/plain": [
       "119"
      ]
     },
     "execution_count": 422,
     "metadata": {},
     "output_type": "execute_result"
    }
   ],
   "source": [
    "sum(x_ccd_a != 0)"
   ]
  },
  {
   "cell_type": "code",
   "execution_count": 1604,
   "metadata": {},
   "outputs": [
    {
     "data": {
      "text/plain": [
       "<matplotlib.text.Text at 0x1241dc780>"
      ]
     },
     "execution_count": 1604,
     "metadata": {},
     "output_type": "execute_result"
    },
    {
     "data": {
      "image/png": "[encoded data removed]",
      "text/plain": [
       "<matplotlib.figure.Figure at 0x1231a46a0>"
      ]
     },
     "metadata": {},
     "output_type": "display_data"
    }
   ],
   "source": [
    "plot(gammas)\n",
    "xlabel(\"k, iteratons\")\n",
    "ylabel(\"$\\gamma$, Armiho step size\")\n",
    "title(\"Armiho step size over iterations, n = 1000\")"
   ]
  },
  {
   "cell_type": "code",
   "execution_count": 1610,
   "metadata": {
    "collapsed": true
   },
   "outputs": [],
   "source": [
    "import pandas as pd\n",
    "gammas_series = pd.Series(gammas)\n",
    "gammas_series.to_csv(\"armiho_steps.csv\")"
   ]
  },
  {
   "cell_type": "markdown",
   "metadata": {},
   "source": [
    "## Эксперименты с ассимптотикой по размерности пространства"
   ]
  },
  {
   "cell_type": "code",
   "execution_count": 1543,
   "metadata": {
    "scrolled": true
   },
   "outputs": [
    {
     "data": {
      "application/vnd.jupyter.widget-view+json": {
       "model_id": "cda68647b8544fff809e84b4599dfe6b"
      }
     },
     "metadata": {},
     "output_type": "display_data"
    },
    {
     "name": "stderr",
     "output_type": "stream",
     "text": [
      "/Users/aksholokhov/.anaconda/lib/python3.6/site-packages/scipy/sparse/compressed.py:274: SparseEfficiencyWarning: Comparing a sparse matrix with a scalar greater than zero using < is inefficient, try using >= instead.\n",
      "  warn(bad_scalar_msg, SparseEfficiencyWarning)\n"
     ]
    },
    {
     "name": "stdout",
     "output_type": "stream",
     "text": [
      "CPU times: user 10min 43s, sys: 10.6 s, total: 10min 54s\n",
      "Wall time: 15min 24s\n"
     ]
    }
   ],
   "source": [
    "%%time\n",
    "\n",
    "iters_n = []\n",
    "sparsity_n = []\n",
    "time_n = []\n",
    "\n",
    "progress_bar = FloatProgress()\n",
    "progress_bar.min = 0\n",
    "progress_bar.max = 12\n",
    "display(progress_bar)\n",
    "\n",
    "for i in [5, 10, 25, 50, 75, 100, 200, 300]:\n",
    "    local_iters = []\n",
    "    local_sparsity = []\n",
    "    local_time = []\n",
    "    \n",
    "    for _ in range(5):\n",
    "        n = i\n",
    "        m = 3*n\n",
    "        mu = 1/n\n",
    "        x_true = rand(n)\n",
    "        x_true /= sum(x_true)\n",
    "        X = rand(m, n)\n",
    "        y = dot(X, x_true)\n",
    "        e_lower_lim = matrix.max(matrix(abs(X)))*sqrt(n)\n",
    "        X = sparsify(array(X), e_lower_lim+0.01)\n",
    "\n",
    "        start_point = rand(n)\n",
    "        start_point /= sum(start_point)\n",
    "\n",
    "        start = timeit.default_timer()\n",
    "        x_ccd, steps_ccd, x = CCD_sparse(X, y, mu, start_point, e = 1e-3)\n",
    "        stop = timeit.default_timer()\n",
    "        \n",
    "        local_iters.append(steps_ccd)\n",
    "        local_sparsity.append(sum(X != 0)/(n*m))\n",
    "        local_time.append(stop-start)\n",
    "    \n",
    "    iters_n.append(mean(local_iters))\n",
    "    sparsity_n.append(mean(local_sparsity))\n",
    "    time_n.append(mean(local_time))\n",
    "    progress_bar.value += 1"
   ]
  },
  {
   "cell_type": "code",
   "execution_count": 1544,
   "metadata": {},
   "outputs": [
    {
     "data": {
      "text/plain": [
       "<matplotlib.text.Text at 0x121d4bd30>"
      ]
     },
     "execution_count": 1544,
     "metadata": {},
     "output_type": "execute_result"
    },
    {
     "data": {
      "image/png": "[encoded data removed]",
      "text/plain": [
       "<matplotlib.figure.Figure at 0x121e0bc88>"
      ]
     },
     "metadata": {},
     "output_type": "display_data"
    }
   ],
   "source": [
    "plot(iters_n)\n",
    "xticks(range(len(iters_n)), [5, 10, 25, 50, 75, 100, 200, 300])\n",
    "xlabel(\"n, diimension of the X matrix: [3n, n]\")\n",
    "ylabel(\"k, iterations\")\n",
    "title(\"Convergence rate over the dimmension of the space\")"
   ]
  },
  {
   "cell_type": "code",
   "execution_count": 1545,
   "metadata": {},
   "outputs": [
    {
     "data": {
      "text/plain": [
       "<matplotlib.text.Text at 0x1221aecc0>"
      ]
     },
     "execution_count": 1545,
     "metadata": {},
     "output_type": "execute_result"
    },
    {
     "data": {
      "image/png": "[encoded data removed]",
      "text/plain": [
       "<matplotlib.figure.Figure at 0x121cc1320>"
      ]
     },
     "metadata": {},
     "output_type": "display_data"
    }
   ],
   "source": [
    "plot(time_n)\n",
    "xticks(range(len(iters_n)), [5, 10, 25, 50, 75, 100, 200, 300, 400, 500, 800, 1000])\n",
    "xlabel(\"n, diimension of the X matrix: [3n, n]\")\n",
    "ylabel(\"t, sec\")\n",
    "title(\"Convergence time over the dimmension of the space\")"
   ]
  },
  {
   "cell_type": "markdown",
   "metadata": {},
   "source": [
    "## Эксперименты на степень разреженности"
   ]
  },
  {
   "cell_type": "code",
   "execution_count": 1213,
   "metadata": {},
   "outputs": [
    {
     "data": {
      "application/vnd.jupyter.widget-view+json": {
       "model_id": "86f63c6b2d474563831a828f09ea7e7e"
      }
     },
     "metadata": {},
     "output_type": "display_data"
    },
    {
     "name": "stdout",
     "output_type": "stream",
     "text": [
      "CPU times: user 46min 50s, sys: 50.8 s, total: 47min 41s\n",
      "Wall time: 1h 39min 42s\n"
     ]
    }
   ],
   "source": [
    "%%time\n",
    "\n",
    "iters_s = []\n",
    "sparsity_s = []\n",
    "time_s = []\n",
    "\n",
    "progress_bar = FloatProgress()\n",
    "progress_bar.min = 0\n",
    "progress_bar.max = 20\n",
    "display(progress_bar)\n",
    "\n",
    "for i in range(1, 21):\n",
    "    local_iters = []\n",
    "    local_sparsity = []\n",
    "    local_time = []\n",
    "    \n",
    "    for _ in range(5):\n",
    "        n = 200\n",
    "        m = 3*n\n",
    "        mu = 1/n\n",
    "        x_true = rand(n)\n",
    "        x_true /= sum(x_true)\n",
    "        X = rand(m, n)\n",
    "        y = dot(X, x_true)\n",
    "        e_lower_lim = matrix.max(matrix(abs(X)))*sqrt(n)\n",
    "        X = sparsify(array(X), e_lower_lim*i)\n",
    "\n",
    "        start_point = rand(n)\n",
    "        start_point /= sum(start_point)\n",
    "\n",
    "        start = timeit.default_timer()\n",
    "        x_ccd, steps_ccd, x = CCD_sparse(X, y, mu, start_point, e = 1e-3)\n",
    "        stop = timeit.default_timer()\n",
    "        \n",
    "        local_iters.append(steps_ccd)\n",
    "        local_sparsity.append(sum(X != 0)/(n*m))\n",
    "        local_time.append(stop-start)\n",
    "    \n",
    "    iters_s.append(mean(local_iters))\n",
    "    sparsity_s.append(mean(local_sparsity))\n",
    "    time_s.append(mean(local_time))\n",
    "    progress_bar.value += 1"
   ]
  },
  {
   "cell_type": "code",
   "execution_count": 1253,
   "metadata": {
    "scrolled": true
   },
   "outputs": [
    {
     "data": {
      "text/plain": [
       "<matplotlib.text.Text at 0x11e1dc588>"
      ]
     },
     "execution_count": 1253,
     "metadata": {},
     "output_type": "execute_result"
    },
    {
     "data": {
      "image/png": "[encoded data removed]",
      "text/plain": [
       "<matplotlib.figure.Figure at 0x11e19de10>"
      ]
     },
     "metadata": {},
     "output_type": "display_data"
    }
   ],
   "source": [
    "plot(sparsity_s, iters_s)\n",
    "xlabel(\"p, percent of non-zero elements in X\")\n",
    "ylabel(\"k, iterations\")\n",
    "title(\"Convergence rate over sparsity of the X\")"
   ]
  },
  {
   "cell_type": "code",
   "execution_count": 1254,
   "metadata": {},
   "outputs": [
    {
     "data": {
      "text/plain": [
       "<matplotlib.text.Text at 0x11e383550>"
      ]
     },
     "execution_count": 1254,
     "metadata": {},
     "output_type": "execute_result"
    },
    {
     "data": {
      "image/png": "[encoded data removed]",
      "text/plain": [
       "<matplotlib.figure.Figure at 0x11e2bf048>"
      ]
     },
     "metadata": {},
     "output_type": "display_data"
    }
   ],
   "source": [
    "plot(sparsity_s, time_s)\n",
    "xlabel(\"p, percent of non-zero elements in X\")\n",
    "ylabel(\"t, sec\")\n",
    "title(\"Convergence time over sparsity of the X\")"
   ]
  },
  {
   "cell_type": "markdown",
   "metadata": {},
   "source": [
    "## Эксперимент про ассимптотики по числу строк матрицы X"
   ]
  },
  {
   "cell_type": "code",
   "execution_count": 1291,
   "metadata": {},
   "outputs": [
    {
     "data": {
      "application/vnd.jupyter.widget-view+json": {
       "model_id": "8a13b0176a744019b6fb6b88fb601a8f"
      }
     },
     "metadata": {},
     "output_type": "display_data"
    },
    {
     "name": "stdout",
     "output_type": "stream",
     "text": [
      "CPU times: user 2min 14s, sys: 2.83 s, total: 2min 17s\n",
      "Wall time: 1min 56s\n"
     ]
    }
   ],
   "source": [
    "%%time\n",
    "\n",
    "iters_m = []\n",
    "sparsity_m = []\n",
    "time_m = []\n",
    "\n",
    "progress_bar = FloatProgress()\n",
    "progress_bar.min = 0\n",
    "progress_bar.max = 11\n",
    "display(progress_bar)\n",
    "\n",
    "for i in [20, 40, 50, 75, 100, 200, 300, 400, 500, 800, 1000]:\n",
    "    local_iters = []\n",
    "    local_sparsity = []\n",
    "    local_time = []\n",
    "    \n",
    "    for _ in range(5):\n",
    "        n = 10\n",
    "        m = i\n",
    "        mu = 1/n\n",
    "        x_true = rand(n)\n",
    "        x_true /= sum(x_true)\n",
    "        X = rand(m, n)\n",
    "        y = dot(X, x_true)\n",
    "        #e_lower_lim = matrix.max(matrix(abs(X)))*sqrt(n)\n",
    "        #X = sparsify(array(X), e_lower_lim+0.01)\n",
    "\n",
    "        start_point = rand(n)\n",
    "        start_point /= sum(start_point)\n",
    "\n",
    "        start = timeit.default_timer()\n",
    "        x_ccd, steps_ccd, x = CCD_sparse(X, y, mu, start_point, e = 1e-3)\n",
    "        stop = timeit.default_timer()\n",
    "        \n",
    "        local_iters.append(steps_ccd)\n",
    "        local_sparsity.append(sum(X != 0)/(n*m))\n",
    "        local_time.append(stop-start)\n",
    "    \n",
    "    iters_m.append(mean(local_iters))\n",
    "    sparsity_m.append(mean(local_sparsity))\n",
    "    time_m.append(mean(local_time))\n",
    "    progress_bar.value += 1"
   ]
  },
  {
   "cell_type": "code",
   "execution_count": 1294,
   "metadata": {},
   "outputs": [
    {
     "data": {
      "text/plain": [
       "<matplotlib.text.Text at 0x11f2c4668>"
      ]
     },
     "execution_count": 1294,
     "metadata": {},
     "output_type": "execute_result"
    },
    {
     "data": {
      "image/png": "[encoded data removed]",
      "text/plain": [
       "<matplotlib.figure.Figure at 0x11f277eb8>"
      ]
     },
     "metadata": {},
     "output_type": "display_data"
    }
   ],
   "source": [
    "plot(iters_m)\n",
    "xticks(range(len(iters_m)), [20, 40, 50, 75, 100, 200, 300, 400, 500, 800, 1000])\n",
    "xlabel(\"m, diimension of the X matrix: [m, 10]\")\n",
    "ylabel(\"k, iterations\")\n",
    "title(\"Convergence rate over the dimmension of the space\")"
   ]
  },
  {
   "cell_type": "code",
   "execution_count": 1293,
   "metadata": {},
   "outputs": [
    {
     "data": {
      "text/plain": [
       "<matplotlib.text.Text at 0x11f22b358>"
      ]
     },
     "execution_count": 1293,
     "metadata": {},
     "output_type": "execute_result"
    },
    {
     "data": {
      "image/png": "[encoded data removed]",
      "text/plain": [
       "<matplotlib.figure.Figure at 0x11df77748>"
      ]
     },
     "metadata": {},
     "output_type": "display_data"
    }
   ],
   "source": [
    "plot(time_m)\n",
    "xticks(range(len(iters_m)), [20, 40, 50, 75, 100, 200, 300, 400, 500, 800, 1000])\n",
    "xlabel(\"m, diimension of the X matrix: [m, 10]\")\n",
    "ylabel(\"t, sec\")\n",
    "title(\"Convergence time over the dimmension of the space\")"
   ]
  },
  {
   "cell_type": "markdown",
   "metadata": {},
   "source": [
    "## Эксперимент о зависимости скорости сходимости от начального приближения"
   ]
  },
  {
   "cell_type": "code",
   "execution_count": 1295,
   "metadata": {},
   "outputs": [
    {
     "data": {
      "application/vnd.jupyter.widget-view+json": {
       "model_id": "dcb441c90e5048f6ab5350862b96e0ba"
      }
     },
     "metadata": {},
     "output_type": "display_data"
    },
    {
     "name": "stdout",
     "output_type": "stream",
     "text": [
      "CPU times: user 3min 15s, sys: 3.37 s, total: 3min 18s\n",
      "Wall time: 3min 24s\n"
     ]
    }
   ],
   "source": [
    "%%time\n",
    "\n",
    "iters_l = []\n",
    "sparsity_l = []\n",
    "time_l = []\n",
    "\n",
    "progress_bar = FloatProgress()\n",
    "progress_bar.min = 0\n",
    "progress_bar.max = 20\n",
    "display(progress_bar)\n",
    "\n",
    "n = 10\n",
    "m = 100\n",
    "mu = 1/n\n",
    "x_true = rand(n)\n",
    "x_true /= sum(x_true)\n",
    "X = rand(m, n)\n",
    "y = dot(X, x_true)\n",
    "e_lower_lim = matrix.max(matrix(abs(X)))*sqrt(n)\n",
    "X = sparsify(array(X), e_lower_lim*10)\n",
    "angle_point = np.zeros(n)\n",
    "angle_point[0] = 1\n",
    "\n",
    "for i in linspace(0, 1, 20):\n",
    "    local_iters = []\n",
    "    local_sparsity = []\n",
    "    local_time = []\n",
    "    \n",
    "    for _ in range(5):\n",
    "        start_point = i*x_true + (1-i)*angle_point\n",
    "        start_point /= sum(start_point)\n",
    "\n",
    "        start = timeit.default_timer()\n",
    "        x_ccd, steps_ccd, x = CCD_sparse(X, y, mu, start_point, e = 1e-3)\n",
    "        stop = timeit.default_timer()\n",
    "        \n",
    "        local_iters.append(steps_ccd)\n",
    "        local_sparsity.append(sum(X != 0)/(n*m))\n",
    "        local_time.append(stop-start)\n",
    "    \n",
    "    iters_l.append(mean(local_iters))\n",
    "    sparsity_l.append(mean(local_sparsity))\n",
    "    time_l.append(mean(local_time))\n",
    "    progress_bar.value += 1"
   ]
  },
  {
   "cell_type": "code",
   "execution_count": 1296,
   "metadata": {},
   "outputs": [
    {
     "data": {
      "text/plain": [
       "[<matplotlib.lines.Line2D at 0x11f4604a8>]"
      ]
     },
     "execution_count": 1296,
     "metadata": {},
     "output_type": "execute_result"
    },
    {
     "data": {
      "image/png": "[encoded data removed]",
      "text/plain": [
       "<matplotlib.figure.Figure at 0x11deaa6d8>"
      ]
     },
     "metadata": {},
     "output_type": "display_data"
    }
   ],
   "source": [
    "plot(iters_l)"
   ]
  },
  {
   "cell_type": "markdown",
   "metadata": {},
   "source": [
    "## Бэкапы"
   ]
  },
  {
   "cell_type": "code",
   "execution_count": 12,
   "metadata": {
    "collapsed": true
   },
   "outputs": [],
   "source": [
    "def f_dense(x, X, y, mu):\n",
    "    return norm(dot(X, x) - y)**2 + mu/2*norm(x)**2\n",
    "\n",
    "def grad_f_dense(x, X, y, mu):\n",
    "    return 2*dot(X.T, dot(X, x) - y) + mu*x"
   ]
  },
  {
   "cell_type": "markdown",
   "metadata": {},
   "source": [
    "Первая заработавшая версия"
   ]
  },
  {
   "cell_type": "code",
   "execution_count": null,
   "metadata": {
    "collapsed": true
   },
   "outputs": [],
   "source": [
    "def CCD(X, y, mu, x0, M, e, k_max = 1e4):\n",
    "    n = len(x0)\n",
    "    \n",
    "    steps = [x0]\n",
    "    \n",
    "    A = c_[y, -X]\n",
    "    I = np.zeros((n+1, n+1))\n",
    "    I[1:, 1:] = np.eye(n)\n",
    "    H = (dot(A.T, A) + mu*I).T\n",
    "    \n",
    "    def grad(x):\n",
    "        return dot(dot(X.T, X), x) - dot(X.T,y) + mu*x\n",
    "    \n",
    "    g_x = grad(x0)\n",
    "    heap = fhm.Fibonacci_heap()\n",
    "    g_elems = []\n",
    "    for i, val in enumerate(g_x):\n",
    "        g_elems.append(heap.enqueue(i, val))\n",
    "    \n",
    "    x = x0\n",
    "    x_prev = 3*x0\n",
    "    beta = 1\n",
    "    z = x/beta\n",
    "    z_prev = 3*z\n",
    "    \n",
    "    for i in range(1, int(k_max)):\n",
    "        min_coord = heap.min().get_value()\n",
    "        gf = argmin(grad(x))\n",
    "        d = np.zeros(n)\n",
    "        d[gf] = 1\n",
    "\n",
    "        #if norm(x - x_prev) < e*norm(x):      # по относительному аргументу\n",
    "        if abs(f(x, X, y, mu) - f(x_prev, X, y, mu)) < 1/n*e*f(x_prev, X, y, mu): # по относительной функции\n",
    "            return z*beta, steps, x\n",
    "\n",
    "        gamma = 1/(i + 2)\n",
    "        beta *= (1 - gamma)\n",
    "        gamma_n = gamma/beta\n",
    "        x_prev = copy(x)\n",
    "        x = (1-gamma)*x + gamma*d\n",
    "        z_prev = copy(z)\n",
    "        z[min_coord] += gamma_n\n",
    "        steps.append(copy(z)*beta)\n",
    "        \n",
    "        x_1 = np.zeros(n+1)\n",
    "        x_1[1:] = z_prev\n",
    "        delta_grad = gamma*H[min_coord+1] - gamma*(beta/(1-gamma))*dot(H, x_1)\n",
    "                \n",
    "        for k, delta in enumerate(delta_grad[1:]):\n",
    "            if delta != 0:\n",
    "                new_priority = g_elems[k].get_priority() + delta\n",
    "                value = g_elems[k].get_value()\n",
    "                heap.decrease_key(entry=g_elems[k], new_priority=heap.min().get_priority()-1)\n",
    "                heap.dequeue_min()\n",
    "                g_elems[k] = heap.enqueue(value=value, priority=new_priority)\n",
    "        \n",
    "    return z*beta, steps, x"
   ]
  },
  {
   "cell_type": "markdown",
   "metadata": {},
   "source": [
    "Версия с заработавшим пересчетом через z"
   ]
  },
  {
   "cell_type": "code",
   "execution_count": null,
   "metadata": {
    "collapsed": true
   },
   "outputs": [],
   "source": [
    "def CCD(X, y, mu, x0, M, e, k_max = 1e4):\n",
    "    n = len(x0)\n",
    "    \n",
    "    steps = [x0]\n",
    "    \n",
    "    A = c_[y, -X]\n",
    "    I = np.zeros((n+1, n+1))\n",
    "    I[1:, 1:] = np.eye(n)\n",
    "    H = (dot(A.T, A) + mu*I).T\n",
    "    \n",
    "    def grad(x):\n",
    "        return dot(dot(X.T, X), x) - dot(X.T,y) + mu*x\n",
    "    \n",
    "    g_x = grad(x0)\n",
    "    heap = fhm.Fibonacci_heap()\n",
    "    g_elems = []\n",
    "    for i, val in enumerate(g_x):\n",
    "        g_elems.append(heap.enqueue(i, val))\n",
    "    \n",
    "    x = x0\n",
    "    x_prev = 3*x0\n",
    "    beta = 1\n",
    "    z = x/beta\n",
    "    z_prev = 3*z\n",
    "    \n",
    "    for i in range(1, int(k_max)):\n",
    "        min_coord = heap.min().get_value()\n",
    "        gf = argmin(grad(x))\n",
    "        d = np.zeros(n)\n",
    "        d[gf] = 1\n",
    "        \n",
    "        #if norm(x - x_prev) < e*norm(x):      # по относительному аргументу\n",
    "        if abs(f(x, X, y, mu) - f(x_prev, X, y, mu)) < 1/n*e*f(x_prev, X, y, mu): # по относительной функции\n",
    "            return z*beta, steps, x\n",
    "\n",
    "        gamma = 1/(i + 2)\n",
    "        beta *= (1 - gamma)\n",
    "        gamma_n = gamma/beta\n",
    "        x_prev = copy(x)\n",
    "        x = (1-gamma)*x + gamma*d\n",
    "        z_prev = copy(z)\n",
    "        z[min_coord] += gamma_n\n",
    "        steps.append(copy(z)*beta)\n",
    "        \n",
    "        z_1 = np.zeros(n+1)\n",
    "        z_1[1:] = z_prev\n",
    "        #delta_grad = gamma*H[min_coord+1] - gamma*(beta/(1-gamma))*dot(H, z_1)\n",
    "        delta_grad = gamma_n*H[min_coord+1] + H[0]*(1/beta - 1/(beta/(1-gamma)))\n",
    "        \n",
    "        for k, delta in enumerate(delta_grad[1:]):\n",
    "            if delta != 0:\n",
    "                new_priority = g_elems[k].get_priority() + delta\n",
    "                value = g_elems[k].get_value()\n",
    "                heap.decrease_key(entry=g_elems[k], new_priority=heap.min().get_priority()-1)\n",
    "                heap.dequeue_min()\n",
    "                g_elems[k] = heap.enqueue(value=value, priority=new_priority)\n",
    "        \n",
    "    return z*beta, steps, x"
   ]
  },
  {
   "cell_type": "markdown",
   "metadata": {},
   "source": [
    "Версия с заработавшими sparse-массивами"
   ]
  },
  {
   "cell_type": "code",
   "execution_count": 13,
   "metadata": {
    "collapsed": true
   },
   "outputs": [],
   "source": [
    "def CCD_sparse_backup(X, y, mu, x0, e, k_max = 1e5):    \n",
    "    n = len(x0)\n",
    "    \n",
    "    steps = [x0]\n",
    "    \n",
    "    A = csr_matrix(c_[y, -X])\n",
    "    I = np.eye(n+1)\n",
    "    I[0][0] = 0\n",
    "    I = csr_matrix(I)\n",
    "    H = ((A.T).dot(A) + I.multiply(mu)).T\n",
    "    \n",
    "    x1 = ones(n+1)\n",
    "    x1[1:] = x0\n",
    "    x1 = csr_matrix(x1)\n",
    "    g_x = H.dot(x1.T).todense()[1:]\n",
    "    \n",
    "    heap = fhm.Fibonacci_heap()\n",
    "    g_elems = []\n",
    "\n",
    "    for i, val in enumerate(array(g_x)):\n",
    "        g_elems.append(heap.enqueue(i, val))\n",
    "    \n",
    "    x = x0\n",
    "    beta = 1\n",
    "    z = x0/beta\n",
    "    z_prev = 3*z\n",
    "    \n",
    "    for i in range(1, int(k_max)):\n",
    "        min_coord = heap.min().get_value()\n",
    "        \n",
    "        #if norm(x - x_prev) < e*norm(x):      # по относительному аргументу\n",
    "        if abs(f_dense(z*beta, X, y, mu) - f_dense(z_prev*beta, X, y, mu)) < e: # по относительной функции\n",
    "            return z*beta, i, x\n",
    "\n",
    "        gamma = 1/(i + 2)\n",
    "        beta *= (1 - gamma)\n",
    "        gamma_n = gamma/beta\n",
    "        z_prev = copy(z)\n",
    "        z[min_coord] += gamma_n\n",
    "        \n",
    "        delta_grad = gamma_n*H[min_coord+1] + H[0]*(1/beta - 1/(beta/(1-gamma)))\n",
    "        \n",
    "        for k, delta in zip(delta_grad.indices, delta_grad.data):\n",
    "            if delta != 0 and k != 0:\n",
    "                k -= 1\n",
    "                new_priority = g_elems[k].get_priority() + delta\n",
    "                value = g_elems[k].get_value()\n",
    "                heap.decrease_key(entry=g_elems[k], new_priority=heap.min().get_priority()-1)\n",
    "                heap.dequeue_min()\n",
    "                g_elems[k] = heap.enqueue(value=value, priority=new_priority)\n",
    "        \n",
    "    return z*beta, k_max, x"
   ]
  },
  {
   "cell_type": "code",
   "execution_count": null,
   "metadata": {
    "collapsed": true
   },
   "outputs": [],
   "source": []
  }
 ],
 "metadata": {
  "kernelspec": {
   "display_name": "Python 3",
   "language": "python",
   "name": "python3"
  },
  "language_info": {
   "codemirror_mode": {
    "name": "ipython",
    "version": 3
   },
   "file_extension": ".py",
   "mimetype": "text/x-python",
   "name": "python",
   "nbconvert_exporter": "python",
   "pygments_lexer": "ipython3",
   "version": "3.6.1"
  }
 },
 "nbformat": 4,
 "nbformat_minor": 2
}
