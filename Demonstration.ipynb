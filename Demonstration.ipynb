{
 "cells": [
  {
   "cell_type": "code",
   "execution_count": 3,
   "metadata": {
    "collapsed": true
   },
   "outputs": [],
   "source": [
    "%load_ext autoreload\n",
    "\n",
    "%autoreload 2"
   ]
  },
  {
   "cell_type": "code",
   "execution_count": 4,
   "metadata": {
    "scrolled": true
   },
   "outputs": [
    {
     "name": "stdout",
     "output_type": "stream",
     "text": [
      "Populating the interactive namespace from numpy and matplotlib\n"
     ]
    }
   ],
   "source": [
    "%pylab inline\n",
    "from sklearn.datasets import make_regression\n",
    "from sklearn.linear_model import Ridge\n",
    "from numpy.linalg import norm\n",
    "from numpy import copy\n",
    "\n",
    "from scipy.stats import probplot\n",
    "import scipy as sp\n",
    "\n",
    "from ipywidgets import FloatProgress\n",
    "from IPython.display import display\n",
    "\n",
    "import timeit\n",
    "\n",
    "import fibonacci_heap_mod as fhm\n",
    "\n",
    "from scipy.sparse import csr_matrix\n",
    "from scipy import sparse"
   ]
  },
  {
   "cell_type": "markdown",
   "metadata": {},
   "source": [
    "## Постановка задачи"
   ]
  },
  {
   "cell_type": "markdown",
   "metadata": {},
   "source": [
    "$$\\begin{array}{lcl} f(x) = \\frac{1}{2} \\left\\lVert Ax-y\\right\\rVert^{2} + \\frac{\\mu}{2} \\left\\lVert x\\right\\rVert^{2} \\\\\n",
    "\\nabla f(x) = \\mu x + A^T  (Ax - y) \\end{array}$$"
   ]
  },
  {
   "cell_type": "markdown",
   "metadata": {},
   "source": [
    "Где $A$ -- плотная $m\\cdot n$ матрица <br>\n",
    "$y$ -- $m\\cdot 1$ вектор ответов <br>\n",
    "$x$ -- $n\\cdot 1$ искомый вектор"
   ]
  },
  {
   "cell_type": "markdown",
   "metadata": {},
   "source": [
    "Пусть:"
   ]
  },
  {
   "cell_type": "markdown",
   "metadata": {},
   "source": [
    "$H = \\widetilde{A}^T\\widetilde{A} + \\mu \\widetilde{I}$"
   ]
  },
  {
   "cell_type": "markdown",
   "metadata": {},
   "source": [
    "Где:"
   ]
  },
  {
   "cell_type": "markdown",
   "metadata": {},
   "source": [
    "$\\widetilde{A} = \\begin{bmatrix} y & -X \\end{bmatrix}$\n",
    "$\\widetilde{I} = \\begin{bmatrix} 0 & 0 \\\\ 0 & I_n \\end{bmatrix}$"
   ]
  },
  {
   "cell_type": "markdown",
   "metadata": {},
   "source": [
    "Дополним пространство $D$ допустимых ответов как $\\widetilde{D} = \\{1\\}\\times D$, и перепишем исходную задачу как:"
   ]
  },
  {
   "cell_type": "markdown",
   "metadata": {},
   "source": [
    "$\\widetilde{f}(\\beta) = \\left(\\widetilde{A}\\beta\\right)^T\\left(\\widetilde{A}\\beta\\right)^T + \\beta^T\\widetilde{I}\\beta \\to \\min_\\limits{\\beta \\in \\widetilde{D}}$"
   ]
  },
  {
   "cell_type": "markdown",
   "metadata": {},
   "source": [
    "Дифференцируя по $\\beta$ получаем:"
   ]
  },
  {
   "cell_type": "markdown",
   "metadata": {},
   "source": [
    "$\\nabla \\widetilde{f}(\\beta) = H\\beta$"
   ]
  },
  {
   "cell_type": "markdown",
   "metadata": {},
   "source": [
    "Вводя $z_k = \\frac{x_k}{b_k}$ сохраняя обозначения из статьи получаем, что:"
   ]
  },
  {
   "cell_type": "markdown",
   "metadata": {},
   "source": [
    "$\\arg \\min H\\beta_k \\sim \\arg\\min H \\begin{bmatrix}b_{k}^{-1} \\\\ z_k\\end{bmatrix}$"
   ]
  },
  {
   "cell_type": "markdown",
   "metadata": {},
   "source": [
    "## Тестирование алгоритма"
   ]
  },
  {
   "cell_type": "markdown",
   "metadata": {},
   "source": [
    "Сгенерируем задачу"
   ]
  },
  {
   "cell_type": "code",
   "execution_count": 108,
   "metadata": {
    "scrolled": true
   },
   "outputs": [
    {
     "name": "stdout",
     "output_type": "stream",
     "text": [
      "500000 non-zero elements in matrix X\n",
      "300 non-zero elements in x_true\n",
      "CPU times: user 1.87 s, sys: 165 ms, total: 2.03 s\n",
      "Wall time: 2.14 s\n"
     ]
    }
   ],
   "source": [
    "%%time\n",
    "\n",
    "n = int(1e5)       # Размерность пространства. Осторожно: при порядке n = 10^8 памяти в 8 GB может не хватать\n",
    "m = n              \n",
    "mu = 1/n           # Коэффицент регуляризации в задаче Ridge\n",
    "X = sparse.rand(m, n, density=5/n).tocsr()  # Матрица исходных данных Х размера [m*n], плотность = доля ненулевых эл-тов\n",
    "x_true = sparse.rand(1, n, density=0.003).tocsr()  # Искомое решение             \n",
    "x_true /= x_true.sum() # Решение живет на единичном симплексе\n",
    "# Вектор Y ответов в регрессии искусственно делается всюду плотным плотным путем зашумления\n",
    "y = X.dot(x_true.T) + sparse.rand(m, 1, density=1, format=\"csr\")*0.000000000001 \n",
    "print(\"%d non-zero elements in matrix X\"%(len(X.nonzero()[1])))\n",
    "print(x_true.count_nonzero(), \"non-zero elements in x_true\")\n",
    "x0 = sparse.rand(1, n, density=1/n).tocsr() # Стартовая точка -- случайный угол симплекса"
   ]
  },
  {
   "cell_type": "markdown",
   "metadata": {},
   "source": [
    "Импортируем алгоритм из библиотеки (p.s. приветствуются предложения по имени для алгоритма)"
   ]
  },
  {
   "cell_type": "code",
   "execution_count": null,
   "metadata": {
    "collapsed": true
   },
   "outputs": [],
   "source": [
    "from lib.optimization import noname_algorithm"
   ]
  },
  {
   "cell_type": "markdown",
   "metadata": {},
   "source": [
    "Описание параметров алгоритма:\n",
    "\n",
    "* X -- матрица исходных данных [m*n]\n",
    "* y -- вектор ответов в регрессии\n",
    "* mu -- коэффицент регуляризации\n",
    "* x0 -- начальная точка\n",
    "* e -- относительная точность по квадрату нормы градиента. Критерий останова: ||g(xk)|| < e*||g(x0)||\n",
    "* mode = \"heap\" | \"full_grad\" -- способ выбора координаты спуска: в режиме heap алгоритм поддерживает кучу на компонентах градиента, в режиме \"full_grad\" алгоритм берет простой argmin по его компонентам на каждом шаге\n",
    "* step = \"constant\" | \"paraboluc\" -- способ выбора длины шага: в режиме constant длина шага k задается формулой 1/(1+k), в режиме parabolic длина шага ищется из точки минимума параболического приближения\n",
    "* k_max -- максимальное число итераций\n",
    "* history_elements -- если не пусто, то алгоритм логирует свою работу. Все перечисленные статистики заносятся в соответствующий список на каждом шаге. В конце работы эти списки статистик возвращаются в переменной history."
   ]
  },
  {
   "cell_type": "markdown",
   "metadata": {},
   "source": [
    "На каждом шаге в соответствующую компоненту history заносятся следующие величины:\n",
    "* \"g_norm\" -- норма градиента функции \n",
    "* \"x_norm\" -- норма решения\n",
    "* \"d_sparsity\" -- число ненулевых элементов в апдейте градиента\n",
    "* \"x_sparsity\" -- число ненулевых элементов в текущем х\n",
    "* \"gamma\" -- длина шага\n",
    "* \"f\" -- значение функции в точке\n",
    "* \"time\" -- время работы от начала (без учета препроцессинга данных)\n",
    "\n",
    "По этим данным можно строить графики и смотреть за поведением алгоритма на разных данных"
   ]
  },
  {
   "cell_type": "markdown",
   "metadata": {},
   "source": [
    "В качестве результата функция возвращает:\n",
    "* x -- найденное решение\n",
    "* message -- \"success\" | \"iterations_exceeded\" -- результат работы: успешное завершение поиска с заданной точностью, или же остановка при достижении предельного числа итераций"
   ]
  },
  {
   "cell_type": "code",
   "execution_count": 104,
   "metadata": {
    "scrolled": false
   },
   "outputs": [
    {
     "name": "stdout",
     "output_type": "stream",
     "text": [
      "success\n",
      "CPU times: user 44.2 s, sys: 830 ms, total: 45 s\n",
      "Wall time: 45.6 s\n"
     ]
    }
   ],
   "source": [
    "%%time\n",
    "x, message, history = noname_algorithm(X, y, mu, x0, e = 1e-4, mode=\"heap\", step=\"parabolic\",\n",
    "                                 k_max = 1e4,  history_elements=(\"g_norm\",\"time\",\"d_sparsity\", \"gamma\", \"x_sparsity\", \"x_norm\"))\n",
    "print(message)"
   ]
  },
  {
   "cell_type": "code",
   "execution_count": 105,
   "metadata": {
    "scrolled": true
   },
   "outputs": [
    {
     "name": "stdout",
     "output_type": "stream",
     "text": [
      "success\n",
      "CPU times: user 1min 31s, sys: 1.29 s, total: 1min 32s\n",
      "Wall time: 1min 36s\n"
     ]
    }
   ],
   "source": [
    "%%time\n",
    "x_fix, message, history_fix = CCD_sparse(X, y, mu, x0, e = 1e-4, mode=\"heap\", step=\"constant\",\n",
    "                                 k_max = 1e4,  history_elements=(\"g_norm\",\"time\",\"d_sparsity\", \"gamma\"))\n",
    "print(message)"
   ]
  },
  {
   "cell_type": "code",
   "execution_count": 110,
   "metadata": {
    "scrolled": true
   },
   "outputs": [
    {
     "data": {
      "text/plain": [
       "<matplotlib.text.Text at 0x1198efa20>"
      ]
     },
     "execution_count": 110,
     "metadata": {},
     "output_type": "execute_result"
    },
    {
     "data": {
      "image/png": "[encoded data removed]",
      "text/plain": [
       "<matplotlib.figure.Figure at 0x11ef8d748>"
      ]
     },
     "metadata": {},
     "output_type": "display_data"
    }
   ],
   "source": [
    "semilogy(history[\"time\"], history[\"g_norm\"], label = \"parabolic\")\n",
    "semilogy(history_fix[\"time\"], history_fix[\"g_norm\"], label = \"constant\")\n",
    "legend()\n",
    "xlabel(\"sec, time\")\n",
    "ylabel(\"gradient norm\")"
   ]
  }
 ],
 "metadata": {
  "kernelspec": {
   "display_name": "Python 3",
   "language": "python",
   "name": "python3"
  },
  "language_info": {
   "codemirror_mode": {
    "name": "ipython",
    "version": 3
   },
   "file_extension": ".py",
   "mimetype": "text/x-python",
   "name": "python",
   "nbconvert_exporter": "python",
   "pygments_lexer": "ipython3",
   "version": "3.6.1"
  }
 },
 "nbformat": 4,
 "nbformat_minor": 2
}
